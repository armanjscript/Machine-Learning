{
  "nbformat": 4,
  "nbformat_minor": 0,
  "metadata": {
    "colab": {
      "provenance": []
    },
    "kernelspec": {
      "name": "python3",
      "display_name": "Python 3"
    },
    "language_info": {
      "name": "python"
    }
  },
  "cells": [
    {
      "cell_type": "code",
      "execution_count": 9,
      "metadata": {
        "id": "QBe0mEjn-Ib4"
      },
      "outputs": [],
      "source": [
        "import pandas as pd\n",
        "import matplotlib.pyplot as plt\n",
        "from sklearn.model_selection import train_test_split"
      ]
    },
    {
      "cell_type": "code",
      "source": [
        "# We'll use the following variables,\n",
        "# 3 of which contain NA.\n",
        "\n",
        "cols_to_use = [\n",
        "    \"OverallQual\",\n",
        "    \"TotalBsmtSF\",\n",
        "    \"1stFlrSF\",\n",
        "    \"GrLivArea\",\n",
        "    \"WoodDeckSF\",\n",
        "    \"BsmtUnfSF\",\n",
        "    \"LotFrontage\",\n",
        "    \"MasVnrArea\",\n",
        "    \"GarageYrBlt\",\n",
        "    \"SalePrice\",\n",
        "]"
      ],
      "metadata": {
        "id": "kXOScq92c2Ng"
      },
      "execution_count": 10,
      "outputs": []
    },
    {
      "cell_type": "code",
      "source": [
        "# Let's load the House Prices dataset.\n",
        "\n",
        "data = pd.read_csv(\"/content/drive/MyDrive/Feature Engineering/Datasets/houseprice.csv\", usecols=cols_to_use)\n",
        "\n",
        "data.head()"
      ],
      "metadata": {
        "id": "cNfIvmsXvxMg",
        "colab": {
          "base_uri": "https://localhost:8080/",
          "height": 206
        },
        "outputId": "fa265deb-be15-48dc-c81d-4cf7626cb23f"
      },
      "execution_count": 11,
      "outputs": [
        {
          "output_type": "execute_result",
          "data": {
            "text/plain": [
              "   LotFrontage  OverallQual  MasVnrArea  BsmtUnfSF  TotalBsmtSF  1stFlrSF  \\\n",
              "0         65.0            7       196.0        150          856       856   \n",
              "1         80.0            6         0.0        284         1262      1262   \n",
              "2         68.0            7       162.0        434          920       920   \n",
              "3         60.0            7         0.0        540          756       961   \n",
              "4         84.0            8       350.0        490         1145      1145   \n",
              "\n",
              "   GrLivArea  GarageYrBlt  WoodDeckSF  SalePrice  \n",
              "0       1710       2003.0           0     208500  \n",
              "1       1262       1976.0         298     181500  \n",
              "2       1786       2001.0           0     223500  \n",
              "3       1717       1998.0           0     140000  \n",
              "4       2198       2000.0         192     250000  "
            ],
            "text/html": [
              "\n",
              "  <div id=\"df-f863fbb9-841f-4801-a024-ce8089a412b0\" class=\"colab-df-container\">\n",
              "    <div>\n",
              "<style scoped>\n",
              "    .dataframe tbody tr th:only-of-type {\n",
              "        vertical-align: middle;\n",
              "    }\n",
              "\n",
              "    .dataframe tbody tr th {\n",
              "        vertical-align: top;\n",
              "    }\n",
              "\n",
              "    .dataframe thead th {\n",
              "        text-align: right;\n",
              "    }\n",
              "</style>\n",
              "<table border=\"1\" class=\"dataframe\">\n",
              "  <thead>\n",
              "    <tr style=\"text-align: right;\">\n",
              "      <th></th>\n",
              "      <th>LotFrontage</th>\n",
              "      <th>OverallQual</th>\n",
              "      <th>MasVnrArea</th>\n",
              "      <th>BsmtUnfSF</th>\n",
              "      <th>TotalBsmtSF</th>\n",
              "      <th>1stFlrSF</th>\n",
              "      <th>GrLivArea</th>\n",
              "      <th>GarageYrBlt</th>\n",
              "      <th>WoodDeckSF</th>\n",
              "      <th>SalePrice</th>\n",
              "    </tr>\n",
              "  </thead>\n",
              "  <tbody>\n",
              "    <tr>\n",
              "      <th>0</th>\n",
              "      <td>65.0</td>\n",
              "      <td>7</td>\n",
              "      <td>196.0</td>\n",
              "      <td>150</td>\n",
              "      <td>856</td>\n",
              "      <td>856</td>\n",
              "      <td>1710</td>\n",
              "      <td>2003.0</td>\n",
              "      <td>0</td>\n",
              "      <td>208500</td>\n",
              "    </tr>\n",
              "    <tr>\n",
              "      <th>1</th>\n",
              "      <td>80.0</td>\n",
              "      <td>6</td>\n",
              "      <td>0.0</td>\n",
              "      <td>284</td>\n",
              "      <td>1262</td>\n",
              "      <td>1262</td>\n",
              "      <td>1262</td>\n",
              "      <td>1976.0</td>\n",
              "      <td>298</td>\n",
              "      <td>181500</td>\n",
              "    </tr>\n",
              "    <tr>\n",
              "      <th>2</th>\n",
              "      <td>68.0</td>\n",
              "      <td>7</td>\n",
              "      <td>162.0</td>\n",
              "      <td>434</td>\n",
              "      <td>920</td>\n",
              "      <td>920</td>\n",
              "      <td>1786</td>\n",
              "      <td>2001.0</td>\n",
              "      <td>0</td>\n",
              "      <td>223500</td>\n",
              "    </tr>\n",
              "    <tr>\n",
              "      <th>3</th>\n",
              "      <td>60.0</td>\n",
              "      <td>7</td>\n",
              "      <td>0.0</td>\n",
              "      <td>540</td>\n",
              "      <td>756</td>\n",
              "      <td>961</td>\n",
              "      <td>1717</td>\n",
              "      <td>1998.0</td>\n",
              "      <td>0</td>\n",
              "      <td>140000</td>\n",
              "    </tr>\n",
              "    <tr>\n",
              "      <th>4</th>\n",
              "      <td>84.0</td>\n",
              "      <td>8</td>\n",
              "      <td>350.0</td>\n",
              "      <td>490</td>\n",
              "      <td>1145</td>\n",
              "      <td>1145</td>\n",
              "      <td>2198</td>\n",
              "      <td>2000.0</td>\n",
              "      <td>192</td>\n",
              "      <td>250000</td>\n",
              "    </tr>\n",
              "  </tbody>\n",
              "</table>\n",
              "</div>\n",
              "    <div class=\"colab-df-buttons\">\n",
              "\n",
              "  <div class=\"colab-df-container\">\n",
              "    <button class=\"colab-df-convert\" onclick=\"convertToInteractive('df-f863fbb9-841f-4801-a024-ce8089a412b0')\"\n",
              "            title=\"Convert this dataframe to an interactive table.\"\n",
              "            style=\"display:none;\">\n",
              "\n",
              "  <svg xmlns=\"http://www.w3.org/2000/svg\" height=\"24px\" viewBox=\"0 -960 960 960\">\n",
              "    <path d=\"M120-120v-720h720v720H120Zm60-500h600v-160H180v160Zm220 220h160v-160H400v160Zm0 220h160v-160H400v160ZM180-400h160v-160H180v160Zm440 0h160v-160H620v160ZM180-180h160v-160H180v160Zm440 0h160v-160H620v160Z\"/>\n",
              "  </svg>\n",
              "    </button>\n",
              "\n",
              "  <style>\n",
              "    .colab-df-container {\n",
              "      display:flex;\n",
              "      gap: 12px;\n",
              "    }\n",
              "\n",
              "    .colab-df-convert {\n",
              "      background-color: #E8F0FE;\n",
              "      border: none;\n",
              "      border-radius: 50%;\n",
              "      cursor: pointer;\n",
              "      display: none;\n",
              "      fill: #1967D2;\n",
              "      height: 32px;\n",
              "      padding: 0 0 0 0;\n",
              "      width: 32px;\n",
              "    }\n",
              "\n",
              "    .colab-df-convert:hover {\n",
              "      background-color: #E2EBFA;\n",
              "      box-shadow: 0px 1px 2px rgba(60, 64, 67, 0.3), 0px 1px 3px 1px rgba(60, 64, 67, 0.15);\n",
              "      fill: #174EA6;\n",
              "    }\n",
              "\n",
              "    .colab-df-buttons div {\n",
              "      margin-bottom: 4px;\n",
              "    }\n",
              "\n",
              "    [theme=dark] .colab-df-convert {\n",
              "      background-color: #3B4455;\n",
              "      fill: #D2E3FC;\n",
              "    }\n",
              "\n",
              "    [theme=dark] .colab-df-convert:hover {\n",
              "      background-color: #434B5C;\n",
              "      box-shadow: 0px 1px 3px 1px rgba(0, 0, 0, 0.15);\n",
              "      filter: drop-shadow(0px 1px 2px rgba(0, 0, 0, 0.3));\n",
              "      fill: #FFFFFF;\n",
              "    }\n",
              "  </style>\n",
              "\n",
              "    <script>\n",
              "      const buttonEl =\n",
              "        document.querySelector('#df-f863fbb9-841f-4801-a024-ce8089a412b0 button.colab-df-convert');\n",
              "      buttonEl.style.display =\n",
              "        google.colab.kernel.accessAllowed ? 'block' : 'none';\n",
              "\n",
              "      async function convertToInteractive(key) {\n",
              "        const element = document.querySelector('#df-f863fbb9-841f-4801-a024-ce8089a412b0');\n",
              "        const dataTable =\n",
              "          await google.colab.kernel.invokeFunction('convertToInteractive',\n",
              "                                                    [key], {});\n",
              "        if (!dataTable) return;\n",
              "\n",
              "        const docLinkHtml = 'Like what you see? Visit the ' +\n",
              "          '<a target=\"_blank\" href=https://colab.research.google.com/notebooks/data_table.ipynb>data table notebook</a>'\n",
              "          + ' to learn more about interactive tables.';\n",
              "        element.innerHTML = '';\n",
              "        dataTable['output_type'] = 'display_data';\n",
              "        await google.colab.output.renderOutput(dataTable, element);\n",
              "        const docLink = document.createElement('div');\n",
              "        docLink.innerHTML = docLinkHtml;\n",
              "        element.appendChild(docLink);\n",
              "      }\n",
              "    </script>\n",
              "  </div>\n",
              "\n",
              "\n",
              "<div id=\"df-93428f12-5d05-4ca9-b64f-80ceb291915b\">\n",
              "  <button class=\"colab-df-quickchart\" onclick=\"quickchart('df-93428f12-5d05-4ca9-b64f-80ceb291915b')\"\n",
              "            title=\"Suggest charts\"\n",
              "            style=\"display:none;\">\n",
              "\n",
              "<svg xmlns=\"http://www.w3.org/2000/svg\" height=\"24px\"viewBox=\"0 0 24 24\"\n",
              "     width=\"24px\">\n",
              "    <g>\n",
              "        <path d=\"M19 3H5c-1.1 0-2 .9-2 2v14c0 1.1.9 2 2 2h14c1.1 0 2-.9 2-2V5c0-1.1-.9-2-2-2zM9 17H7v-7h2v7zm4 0h-2V7h2v10zm4 0h-2v-4h2v4z\"/>\n",
              "    </g>\n",
              "</svg>\n",
              "  </button>\n",
              "\n",
              "<style>\n",
              "  .colab-df-quickchart {\n",
              "      --bg-color: #E8F0FE;\n",
              "      --fill-color: #1967D2;\n",
              "      --hover-bg-color: #E2EBFA;\n",
              "      --hover-fill-color: #174EA6;\n",
              "      --disabled-fill-color: #AAA;\n",
              "      --disabled-bg-color: #DDD;\n",
              "  }\n",
              "\n",
              "  [theme=dark] .colab-df-quickchart {\n",
              "      --bg-color: #3B4455;\n",
              "      --fill-color: #D2E3FC;\n",
              "      --hover-bg-color: #434B5C;\n",
              "      --hover-fill-color: #FFFFFF;\n",
              "      --disabled-bg-color: #3B4455;\n",
              "      --disabled-fill-color: #666;\n",
              "  }\n",
              "\n",
              "  .colab-df-quickchart {\n",
              "    background-color: var(--bg-color);\n",
              "    border: none;\n",
              "    border-radius: 50%;\n",
              "    cursor: pointer;\n",
              "    display: none;\n",
              "    fill: var(--fill-color);\n",
              "    height: 32px;\n",
              "    padding: 0;\n",
              "    width: 32px;\n",
              "  }\n",
              "\n",
              "  .colab-df-quickchart:hover {\n",
              "    background-color: var(--hover-bg-color);\n",
              "    box-shadow: 0 1px 2px rgba(60, 64, 67, 0.3), 0 1px 3px 1px rgba(60, 64, 67, 0.15);\n",
              "    fill: var(--button-hover-fill-color);\n",
              "  }\n",
              "\n",
              "  .colab-df-quickchart-complete:disabled,\n",
              "  .colab-df-quickchart-complete:disabled:hover {\n",
              "    background-color: var(--disabled-bg-color);\n",
              "    fill: var(--disabled-fill-color);\n",
              "    box-shadow: none;\n",
              "  }\n",
              "\n",
              "  .colab-df-spinner {\n",
              "    border: 2px solid var(--fill-color);\n",
              "    border-color: transparent;\n",
              "    border-bottom-color: var(--fill-color);\n",
              "    animation:\n",
              "      spin 1s steps(1) infinite;\n",
              "  }\n",
              "\n",
              "  @keyframes spin {\n",
              "    0% {\n",
              "      border-color: transparent;\n",
              "      border-bottom-color: var(--fill-color);\n",
              "      border-left-color: var(--fill-color);\n",
              "    }\n",
              "    20% {\n",
              "      border-color: transparent;\n",
              "      border-left-color: var(--fill-color);\n",
              "      border-top-color: var(--fill-color);\n",
              "    }\n",
              "    30% {\n",
              "      border-color: transparent;\n",
              "      border-left-color: var(--fill-color);\n",
              "      border-top-color: var(--fill-color);\n",
              "      border-right-color: var(--fill-color);\n",
              "    }\n",
              "    40% {\n",
              "      border-color: transparent;\n",
              "      border-right-color: var(--fill-color);\n",
              "      border-top-color: var(--fill-color);\n",
              "    }\n",
              "    60% {\n",
              "      border-color: transparent;\n",
              "      border-right-color: var(--fill-color);\n",
              "    }\n",
              "    80% {\n",
              "      border-color: transparent;\n",
              "      border-right-color: var(--fill-color);\n",
              "      border-bottom-color: var(--fill-color);\n",
              "    }\n",
              "    90% {\n",
              "      border-color: transparent;\n",
              "      border-bottom-color: var(--fill-color);\n",
              "    }\n",
              "  }\n",
              "</style>\n",
              "\n",
              "  <script>\n",
              "    async function quickchart(key) {\n",
              "      const quickchartButtonEl =\n",
              "        document.querySelector('#' + key + ' button');\n",
              "      quickchartButtonEl.disabled = true;  // To prevent multiple clicks.\n",
              "      quickchartButtonEl.classList.add('colab-df-spinner');\n",
              "      try {\n",
              "        const charts = await google.colab.kernel.invokeFunction(\n",
              "            'suggestCharts', [key], {});\n",
              "      } catch (error) {\n",
              "        console.error('Error during call to suggestCharts:', error);\n",
              "      }\n",
              "      quickchartButtonEl.classList.remove('colab-df-spinner');\n",
              "      quickchartButtonEl.classList.add('colab-df-quickchart-complete');\n",
              "    }\n",
              "    (() => {\n",
              "      let quickchartButtonEl =\n",
              "        document.querySelector('#df-93428f12-5d05-4ca9-b64f-80ceb291915b button');\n",
              "      quickchartButtonEl.style.display =\n",
              "        google.colab.kernel.accessAllowed ? 'block' : 'none';\n",
              "    })();\n",
              "  </script>\n",
              "</div>\n",
              "    </div>\n",
              "  </div>\n"
            ]
          },
          "metadata": {},
          "execution_count": 11
        }
      ]
    },
    {
      "cell_type": "code",
      "source": [
        "# Let's separate into training and testing sets.\n",
        "\n",
        "X_train, X_test, y_train, y_test = train_test_split(\n",
        "    data.drop(\"SalePrice\", axis=1),\n",
        "    data[\"SalePrice\"],\n",
        "    test_size=0.3,\n",
        "    random_state=0,\n",
        ")\n",
        "\n",
        "X_train.shape, X_test.shape"
      ],
      "metadata": {
        "id": "OM5OdqBXCWL8",
        "colab": {
          "base_uri": "https://localhost:8080/"
        },
        "outputId": "38e084ae-cb7d-4f9b-ef71-ba353f8d4595"
      },
      "execution_count": 12,
      "outputs": [
        {
          "output_type": "execute_result",
          "data": {
            "text/plain": [
              "((1022, 9), (438, 9))"
            ]
          },
          "metadata": {},
          "execution_count": 12
        }
      ]
    },
    {
      "cell_type": "code",
      "source": [
        "# Find missing data\n",
        "\n",
        "X_train.isnull().mean()"
      ],
      "metadata": {
        "id": "4x3KO5F4DPWO",
        "colab": {
          "base_uri": "https://localhost:8080/"
        },
        "outputId": "434d27ed-f8a7-4c97-cc10-0216a0868ed0"
      },
      "execution_count": 13,
      "outputs": [
        {
          "output_type": "execute_result",
          "data": {
            "text/plain": [
              "LotFrontage    0.184932\n",
              "OverallQual    0.000000\n",
              "MasVnrArea     0.004892\n",
              "BsmtUnfSF      0.000000\n",
              "TotalBsmtSF    0.000000\n",
              "1stFlrSF       0.000000\n",
              "GrLivArea      0.000000\n",
              "GarageYrBlt    0.052838\n",
              "WoodDeckSF     0.000000\n",
              "dtype: float64"
            ]
          },
          "metadata": {},
          "execution_count": 13
        }
      ]
    },
    {
      "cell_type": "code",
      "source": [
        "# Capture the variables to impute in a list.\n",
        "\n",
        "vars_na = [var for var in X_train.columns if X_train[var].isnull().sum() > 0]\n",
        "\n",
        "vars_na"
      ],
      "metadata": {
        "id": "5rr9vieuExQk",
        "colab": {
          "base_uri": "https://localhost:8080/"
        },
        "outputId": "4ec9ebb8-2b67-4e3a-d407-1351e18d2549"
      },
      "execution_count": 14,
      "outputs": [
        {
          "output_type": "execute_result",
          "data": {
            "text/plain": [
              "['LotFrontage', 'MasVnrArea', 'GarageYrBlt']"
            ]
          },
          "metadata": {},
          "execution_count": 14
        }
      ]
    },
    {
      "cell_type": "code",
      "source": [
        "# Capture the imputation values of the 3 variables in\n",
        "# a dictionary\n",
        "\n",
        "imputation_dict = (X_train[vars_na].mean() + 3 * X_train[vars_na].std()).to_dict()\n",
        "\n",
        "imputation_dict"
      ],
      "metadata": {
        "id": "MM5HHZQmE2AL",
        "colab": {
          "base_uri": "https://localhost:8080/"
        },
        "outputId": "b383205c-7b58-40ac-a878-a800f0b21c14"
      },
      "execution_count": 15,
      "outputs": [
        {
          "output_type": "execute_result",
          "data": {
            "text/plain": [
              "{'LotFrontage': 138.9022201686726,\n",
              " 'MasVnrArea': 648.3947111415165,\n",
              " 'GarageYrBlt': 2052.9707419772235}"
            ]
          },
          "metadata": {},
          "execution_count": 15
        }
      ]
    },
    {
      "cell_type": "code",
      "source": [
        "# Replace missing data\n",
        "\n",
        "X_train.fillna(imputation_dict, inplace=True)\n",
        "X_test.fillna(imputation_dict, inplace=True)"
      ],
      "metadata": {
        "id": "Ughx9kwixQUM"
      },
      "execution_count": 16,
      "outputs": []
    },
    {
      "cell_type": "code",
      "source": [
        "# Corroborate replacement\n",
        "\n",
        "X_train.isnull().sum()"
      ],
      "metadata": {
        "colab": {
          "base_uri": "https://localhost:8080/"
        },
        "id": "3HAEklYnhRgN",
        "outputId": "7abaa870-d791-42c6-f25b-9124178ee73d"
      },
      "execution_count": 17,
      "outputs": [
        {
          "output_type": "execute_result",
          "data": {
            "text/plain": [
              "LotFrontage    0\n",
              "OverallQual    0\n",
              "MasVnrArea     0\n",
              "BsmtUnfSF      0\n",
              "TotalBsmtSF    0\n",
              "1stFlrSF       0\n",
              "GrLivArea      0\n",
              "GarageYrBlt    0\n",
              "WoodDeckSF     0\n",
              "dtype: int64"
            ]
          },
          "metadata": {},
          "execution_count": 17
        }
      ]
    },
    {
      "cell_type": "code",
      "source": [
        "# Corroborate replacement\n",
        "\n",
        "X_test.isnull().sum()"
      ],
      "metadata": {
        "colab": {
          "base_uri": "https://localhost:8080/"
        },
        "id": "G3jiYVgMhS_U",
        "outputId": "d2a6e922-6c00-45af-af70-6e7231747872"
      },
      "execution_count": 18,
      "outputs": [
        {
          "output_type": "execute_result",
          "data": {
            "text/plain": [
              "LotFrontage    0\n",
              "OverallQual    0\n",
              "MasVnrArea     0\n",
              "BsmtUnfSF      0\n",
              "TotalBsmtSF    0\n",
              "1stFlrSF       0\n",
              "GrLivArea      0\n",
              "GarageYrBlt    0\n",
              "WoodDeckSF     0\n",
              "dtype: int64"
            ]
          },
          "metadata": {},
          "execution_count": 18
        }
      ]
    },
    {
      "cell_type": "code",
      "source": [
        "# Let's separate into training and testing sets.\n",
        "\n",
        "X_train, X_test, y_train, y_test = train_test_split(\n",
        "    data.drop(\"SalePrice\", axis=1),\n",
        "    data[\"SalePrice\"],\n",
        "    test_size=0.3,\n",
        "    random_state=0,\n",
        ")"
      ],
      "metadata": {
        "id": "z0khNtPvhW-1"
      },
      "execution_count": 19,
      "outputs": []
    },
    {
      "cell_type": "code",
      "source": [
        "# Capture the imputation values of the 3 variables in\n",
        "# a dictionary\n",
        "\n",
        "# determine interquantile - range\n",
        "IQR = X_train[vars_na].quantile(0.75) - X_train[vars_na].quantile(0.25)\n",
        "\n",
        "imputation_dict = (X_train[vars_na].quantile(0.75) + 3 * IQR).to_dict()\n",
        "\n",
        "imputation_dict"
      ],
      "metadata": {
        "colab": {
          "base_uri": "https://localhost:8080/"
        },
        "id": "PJq3Y_mjhckl",
        "outputId": "f72d6d60-e31d-4cf7-e6ff-d89c578ff4b3"
      },
      "execution_count": 20,
      "outputs": [
        {
          "output_type": "execute_result",
          "data": {
            "text/plain": [
              "{'LotFrontage': 146.0, 'MasVnrArea': 680.0, 'GarageYrBlt': 2121.0}"
            ]
          },
          "metadata": {},
          "execution_count": 20
        }
      ]
    },
    {
      "cell_type": "code",
      "source": [
        "# Replace missing data\n",
        "\n",
        "X_train.fillna(imputation_dict, inplace=True)\n",
        "X_test.fillna(imputation_dict, inplace=True)"
      ],
      "metadata": {
        "id": "1SJlLU0ahhO1"
      },
      "execution_count": 21,
      "outputs": []
    },
    {
      "cell_type": "code",
      "source": [
        "# Let's separate into training and testing sets.\n",
        "\n",
        "X_train, X_test, y_train, y_test = train_test_split(\n",
        "    data.drop(\"SalePrice\", axis=1),\n",
        "    data[\"SalePrice\"],\n",
        "    test_size=0.3,\n",
        "    random_state=0,\n",
        ")"
      ],
      "metadata": {
        "id": "RePnNJzzhk28"
      },
      "execution_count": 22,
      "outputs": []
    },
    {
      "cell_type": "code",
      "source": [
        "imputation_dict = (X_train[vars_na].max() * 3).to_dict()\n",
        "\n",
        "imputation_dict"
      ],
      "metadata": {
        "colab": {
          "base_uri": "https://localhost:8080/"
        },
        "id": "6C0nc2Lohn1d",
        "outputId": "5347ab30-4822-4b1f-8782-1c14b1839a95"
      },
      "execution_count": 23,
      "outputs": [
        {
          "output_type": "execute_result",
          "data": {
            "text/plain": [
              "{'LotFrontage': 939.0, 'MasVnrArea': 4800.0, 'GarageYrBlt': 6030.0}"
            ]
          },
          "metadata": {},
          "execution_count": 23
        }
      ]
    },
    {
      "cell_type": "code",
      "source": [
        "# Replace missing data\n",
        "\n",
        "X_train.fillna(imputation_dict, inplace=True)\n",
        "X_test.fillna(imputation_dict, inplace=True)"
      ],
      "metadata": {
        "id": "72W5p7PQhri9"
      },
      "execution_count": 24,
      "outputs": []
    }
  ]
}