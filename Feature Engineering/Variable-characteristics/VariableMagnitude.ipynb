{
  "nbformat": 4,
  "nbformat_minor": 0,
  "metadata": {
    "colab": {
      "provenance": []
    },
    "kernelspec": {
      "name": "python3",
      "display_name": "Python 3"
    },
    "language_info": {
      "name": "python"
    }
  },
  "cells": [
    {
      "cell_type": "code",
      "execution_count": 1,
      "metadata": {
        "id": "QBe0mEjn-Ib4"
      },
      "outputs": [],
      "source": [
        "import pandas as pd\n",
        "\n",
        "# import several machine learning algorithms\n",
        "from sklearn.linear_model import LogisticRegression\n",
        "from sklearn.ensemble import AdaBoostClassifier\n",
        "from sklearn.ensemble import RandomForestClassifier\n",
        "from sklearn.svm import SVC\n",
        "from sklearn.neural_network import MLPClassifier\n",
        "from sklearn.neighbors import KNeighborsClassifier\n",
        "\n",
        "# to scale the features\n",
        "from sklearn.preprocessing import MinMaxScaler\n",
        "\n",
        "# to evaluate performance and separate into\n",
        "# train and test set\n",
        "from sklearn.metrics import roc_auc_score\n",
        "from sklearn.model_selection import train_test_split"
      ]
    },
    {
      "cell_type": "code",
      "source": [
        "from google.colab import drive\n",
        "drive.mount('/content/drive')"
      ],
      "metadata": {
        "id": "cNfIvmsXvxMg",
        "colab": {
          "base_uri": "https://localhost:8080/"
        },
        "outputId": "46779aec-02c5-4939-dea7-f0212b8ee96c"
      },
      "execution_count": null,
      "outputs": [
        {
          "output_type": "stream",
          "name": "stdout",
          "text": [
            "Drive already mounted at /content/drive; to attempt to forcibly remount, call drive.mount(\"/content/drive\", force_remount=True).\n"
          ]
        }
      ]
    },
    {
      "cell_type": "code",
      "source": [
        "# Load numerical variables of the Titanic Dataset\n",
        "\n",
        "data = pd.read_csv('/content/drive/MyDrive/Feature Engineering/Datasets/titanic.csv',\n",
        "                   usecols=['pclass', 'age', 'fare', 'survived'])\n",
        "data.head()"
      ],
      "metadata": {
        "colab": {
          "base_uri": "https://localhost:8080/",
          "height": 206
        },
        "id": "OM5OdqBXCWL8",
        "outputId": "4e0224e2-040b-45b5-8b31-6934c4075307"
      },
      "execution_count": 3,
      "outputs": [
        {
          "output_type": "execute_result",
          "data": {
            "text/plain": [
              "   pclass  survived      age      fare\n",
              "0       1         1  29.0000  211.3375\n",
              "1       1         1   0.9167  151.5500\n",
              "2       1         0   2.0000  151.5500\n",
              "3       1         0  30.0000  151.5500\n",
              "4       1         0  25.0000  151.5500"
            ],
            "text/html": [
              "\n",
              "  <div id=\"df-9c04019d-678c-47c7-89a4-c8c7fea4f7e0\" class=\"colab-df-container\">\n",
              "    <div>\n",
              "<style scoped>\n",
              "    .dataframe tbody tr th:only-of-type {\n",
              "        vertical-align: middle;\n",
              "    }\n",
              "\n",
              "    .dataframe tbody tr th {\n",
              "        vertical-align: top;\n",
              "    }\n",
              "\n",
              "    .dataframe thead th {\n",
              "        text-align: right;\n",
              "    }\n",
              "</style>\n",
              "<table border=\"1\" class=\"dataframe\">\n",
              "  <thead>\n",
              "    <tr style=\"text-align: right;\">\n",
              "      <th></th>\n",
              "      <th>pclass</th>\n",
              "      <th>survived</th>\n",
              "      <th>age</th>\n",
              "      <th>fare</th>\n",
              "    </tr>\n",
              "  </thead>\n",
              "  <tbody>\n",
              "    <tr>\n",
              "      <th>0</th>\n",
              "      <td>1</td>\n",
              "      <td>1</td>\n",
              "      <td>29.0000</td>\n",
              "      <td>211.3375</td>\n",
              "    </tr>\n",
              "    <tr>\n",
              "      <th>1</th>\n",
              "      <td>1</td>\n",
              "      <td>1</td>\n",
              "      <td>0.9167</td>\n",
              "      <td>151.5500</td>\n",
              "    </tr>\n",
              "    <tr>\n",
              "      <th>2</th>\n",
              "      <td>1</td>\n",
              "      <td>0</td>\n",
              "      <td>2.0000</td>\n",
              "      <td>151.5500</td>\n",
              "    </tr>\n",
              "    <tr>\n",
              "      <th>3</th>\n",
              "      <td>1</td>\n",
              "      <td>0</td>\n",
              "      <td>30.0000</td>\n",
              "      <td>151.5500</td>\n",
              "    </tr>\n",
              "    <tr>\n",
              "      <th>4</th>\n",
              "      <td>1</td>\n",
              "      <td>0</td>\n",
              "      <td>25.0000</td>\n",
              "      <td>151.5500</td>\n",
              "    </tr>\n",
              "  </tbody>\n",
              "</table>\n",
              "</div>\n",
              "    <div class=\"colab-df-buttons\">\n",
              "\n",
              "  <div class=\"colab-df-container\">\n",
              "    <button class=\"colab-df-convert\" onclick=\"convertToInteractive('df-9c04019d-678c-47c7-89a4-c8c7fea4f7e0')\"\n",
              "            title=\"Convert this dataframe to an interactive table.\"\n",
              "            style=\"display:none;\">\n",
              "\n",
              "  <svg xmlns=\"http://www.w3.org/2000/svg\" height=\"24px\" viewBox=\"0 -960 960 960\">\n",
              "    <path d=\"M120-120v-720h720v720H120Zm60-500h600v-160H180v160Zm220 220h160v-160H400v160Zm0 220h160v-160H400v160ZM180-400h160v-160H180v160Zm440 0h160v-160H620v160ZM180-180h160v-160H180v160Zm440 0h160v-160H620v160Z\"/>\n",
              "  </svg>\n",
              "    </button>\n",
              "\n",
              "  <style>\n",
              "    .colab-df-container {\n",
              "      display:flex;\n",
              "      gap: 12px;\n",
              "    }\n",
              "\n",
              "    .colab-df-convert {\n",
              "      background-color: #E8F0FE;\n",
              "      border: none;\n",
              "      border-radius: 50%;\n",
              "      cursor: pointer;\n",
              "      display: none;\n",
              "      fill: #1967D2;\n",
              "      height: 32px;\n",
              "      padding: 0 0 0 0;\n",
              "      width: 32px;\n",
              "    }\n",
              "\n",
              "    .colab-df-convert:hover {\n",
              "      background-color: #E2EBFA;\n",
              "      box-shadow: 0px 1px 2px rgba(60, 64, 67, 0.3), 0px 1px 3px 1px rgba(60, 64, 67, 0.15);\n",
              "      fill: #174EA6;\n",
              "    }\n",
              "\n",
              "    .colab-df-buttons div {\n",
              "      margin-bottom: 4px;\n",
              "    }\n",
              "\n",
              "    [theme=dark] .colab-df-convert {\n",
              "      background-color: #3B4455;\n",
              "      fill: #D2E3FC;\n",
              "    }\n",
              "\n",
              "    [theme=dark] .colab-df-convert:hover {\n",
              "      background-color: #434B5C;\n",
              "      box-shadow: 0px 1px 3px 1px rgba(0, 0, 0, 0.15);\n",
              "      filter: drop-shadow(0px 1px 2px rgba(0, 0, 0, 0.3));\n",
              "      fill: #FFFFFF;\n",
              "    }\n",
              "  </style>\n",
              "\n",
              "    <script>\n",
              "      const buttonEl =\n",
              "        document.querySelector('#df-9c04019d-678c-47c7-89a4-c8c7fea4f7e0 button.colab-df-convert');\n",
              "      buttonEl.style.display =\n",
              "        google.colab.kernel.accessAllowed ? 'block' : 'none';\n",
              "\n",
              "      async function convertToInteractive(key) {\n",
              "        const element = document.querySelector('#df-9c04019d-678c-47c7-89a4-c8c7fea4f7e0');\n",
              "        const dataTable =\n",
              "          await google.colab.kernel.invokeFunction('convertToInteractive',\n",
              "                                                    [key], {});\n",
              "        if (!dataTable) return;\n",
              "\n",
              "        const docLinkHtml = 'Like what you see? Visit the ' +\n",
              "          '<a target=\"_blank\" href=https://colab.research.google.com/notebooks/data_table.ipynb>data table notebook</a>'\n",
              "          + ' to learn more about interactive tables.';\n",
              "        element.innerHTML = '';\n",
              "        dataTable['output_type'] = 'display_data';\n",
              "        await google.colab.output.renderOutput(dataTable, element);\n",
              "        const docLink = document.createElement('div');\n",
              "        docLink.innerHTML = docLinkHtml;\n",
              "        element.appendChild(docLink);\n",
              "      }\n",
              "    </script>\n",
              "  </div>\n",
              "\n",
              "\n",
              "<div id=\"df-55763cbb-8bb9-4587-a7a1-8c5431913ee1\">\n",
              "  <button class=\"colab-df-quickchart\" onclick=\"quickchart('df-55763cbb-8bb9-4587-a7a1-8c5431913ee1')\"\n",
              "            title=\"Suggest charts\"\n",
              "            style=\"display:none;\">\n",
              "\n",
              "<svg xmlns=\"http://www.w3.org/2000/svg\" height=\"24px\"viewBox=\"0 0 24 24\"\n",
              "     width=\"24px\">\n",
              "    <g>\n",
              "        <path d=\"M19 3H5c-1.1 0-2 .9-2 2v14c0 1.1.9 2 2 2h14c1.1 0 2-.9 2-2V5c0-1.1-.9-2-2-2zM9 17H7v-7h2v7zm4 0h-2V7h2v10zm4 0h-2v-4h2v4z\"/>\n",
              "    </g>\n",
              "</svg>\n",
              "  </button>\n",
              "\n",
              "<style>\n",
              "  .colab-df-quickchart {\n",
              "      --bg-color: #E8F0FE;\n",
              "      --fill-color: #1967D2;\n",
              "      --hover-bg-color: #E2EBFA;\n",
              "      --hover-fill-color: #174EA6;\n",
              "      --disabled-fill-color: #AAA;\n",
              "      --disabled-bg-color: #DDD;\n",
              "  }\n",
              "\n",
              "  [theme=dark] .colab-df-quickchart {\n",
              "      --bg-color: #3B4455;\n",
              "      --fill-color: #D2E3FC;\n",
              "      --hover-bg-color: #434B5C;\n",
              "      --hover-fill-color: #FFFFFF;\n",
              "      --disabled-bg-color: #3B4455;\n",
              "      --disabled-fill-color: #666;\n",
              "  }\n",
              "\n",
              "  .colab-df-quickchart {\n",
              "    background-color: var(--bg-color);\n",
              "    border: none;\n",
              "    border-radius: 50%;\n",
              "    cursor: pointer;\n",
              "    display: none;\n",
              "    fill: var(--fill-color);\n",
              "    height: 32px;\n",
              "    padding: 0;\n",
              "    width: 32px;\n",
              "  }\n",
              "\n",
              "  .colab-df-quickchart:hover {\n",
              "    background-color: var(--hover-bg-color);\n",
              "    box-shadow: 0 1px 2px rgba(60, 64, 67, 0.3), 0 1px 3px 1px rgba(60, 64, 67, 0.15);\n",
              "    fill: var(--button-hover-fill-color);\n",
              "  }\n",
              "\n",
              "  .colab-df-quickchart-complete:disabled,\n",
              "  .colab-df-quickchart-complete:disabled:hover {\n",
              "    background-color: var(--disabled-bg-color);\n",
              "    fill: var(--disabled-fill-color);\n",
              "    box-shadow: none;\n",
              "  }\n",
              "\n",
              "  .colab-df-spinner {\n",
              "    border: 2px solid var(--fill-color);\n",
              "    border-color: transparent;\n",
              "    border-bottom-color: var(--fill-color);\n",
              "    animation:\n",
              "      spin 1s steps(1) infinite;\n",
              "  }\n",
              "\n",
              "  @keyframes spin {\n",
              "    0% {\n",
              "      border-color: transparent;\n",
              "      border-bottom-color: var(--fill-color);\n",
              "      border-left-color: var(--fill-color);\n",
              "    }\n",
              "    20% {\n",
              "      border-color: transparent;\n",
              "      border-left-color: var(--fill-color);\n",
              "      border-top-color: var(--fill-color);\n",
              "    }\n",
              "    30% {\n",
              "      border-color: transparent;\n",
              "      border-left-color: var(--fill-color);\n",
              "      border-top-color: var(--fill-color);\n",
              "      border-right-color: var(--fill-color);\n",
              "    }\n",
              "    40% {\n",
              "      border-color: transparent;\n",
              "      border-right-color: var(--fill-color);\n",
              "      border-top-color: var(--fill-color);\n",
              "    }\n",
              "    60% {\n",
              "      border-color: transparent;\n",
              "      border-right-color: var(--fill-color);\n",
              "    }\n",
              "    80% {\n",
              "      border-color: transparent;\n",
              "      border-right-color: var(--fill-color);\n",
              "      border-bottom-color: var(--fill-color);\n",
              "    }\n",
              "    90% {\n",
              "      border-color: transparent;\n",
              "      border-bottom-color: var(--fill-color);\n",
              "    }\n",
              "  }\n",
              "</style>\n",
              "\n",
              "  <script>\n",
              "    async function quickchart(key) {\n",
              "      const quickchartButtonEl =\n",
              "        document.querySelector('#' + key + ' button');\n",
              "      quickchartButtonEl.disabled = true;  // To prevent multiple clicks.\n",
              "      quickchartButtonEl.classList.add('colab-df-spinner');\n",
              "      try {\n",
              "        const charts = await google.colab.kernel.invokeFunction(\n",
              "            'suggestCharts', [key], {});\n",
              "      } catch (error) {\n",
              "        console.error('Error during call to suggestCharts:', error);\n",
              "      }\n",
              "      quickchartButtonEl.classList.remove('colab-df-spinner');\n",
              "      quickchartButtonEl.classList.add('colab-df-quickchart-complete');\n",
              "    }\n",
              "    (() => {\n",
              "      let quickchartButtonEl =\n",
              "        document.querySelector('#df-55763cbb-8bb9-4587-a7a1-8c5431913ee1 button');\n",
              "      quickchartButtonEl.style.display =\n",
              "        google.colab.kernel.accessAllowed ? 'block' : 'none';\n",
              "    })();\n",
              "  </script>\n",
              "</div>\n",
              "    </div>\n",
              "  </div>\n"
            ]
          },
          "metadata": {},
          "execution_count": 3
        }
      ]
    },
    {
      "cell_type": "code",
      "source": [
        "# Let's have a look at the variables' values and\n",
        "# compare the feature magnitudes.\n",
        "\n",
        "data.describe()"
      ],
      "metadata": {
        "id": "4x3KO5F4DPWO",
        "colab": {
          "base_uri": "https://localhost:8080/",
          "height": 300
        },
        "outputId": "9fcf4277-6646-4929-8afe-aef33bd3963e"
      },
      "execution_count": 4,
      "outputs": [
        {
          "output_type": "execute_result",
          "data": {
            "text/plain": [
              "            pclass     survived          age         fare\n",
              "count  1309.000000  1309.000000  1046.000000  1308.000000\n",
              "mean      2.294882     0.381971    29.881135    33.295479\n",
              "std       0.837836     0.486055    14.413500    51.758668\n",
              "min       1.000000     0.000000     0.166700     0.000000\n",
              "25%       2.000000     0.000000    21.000000     7.895800\n",
              "50%       3.000000     0.000000    28.000000    14.454200\n",
              "75%       3.000000     1.000000    39.000000    31.275000\n",
              "max       3.000000     1.000000    80.000000   512.329200"
            ],
            "text/html": [
              "\n",
              "  <div id=\"df-6f2c695a-fc1f-4742-abed-467bded8a2ba\" class=\"colab-df-container\">\n",
              "    <div>\n",
              "<style scoped>\n",
              "    .dataframe tbody tr th:only-of-type {\n",
              "        vertical-align: middle;\n",
              "    }\n",
              "\n",
              "    .dataframe tbody tr th {\n",
              "        vertical-align: top;\n",
              "    }\n",
              "\n",
              "    .dataframe thead th {\n",
              "        text-align: right;\n",
              "    }\n",
              "</style>\n",
              "<table border=\"1\" class=\"dataframe\">\n",
              "  <thead>\n",
              "    <tr style=\"text-align: right;\">\n",
              "      <th></th>\n",
              "      <th>pclass</th>\n",
              "      <th>survived</th>\n",
              "      <th>age</th>\n",
              "      <th>fare</th>\n",
              "    </tr>\n",
              "  </thead>\n",
              "  <tbody>\n",
              "    <tr>\n",
              "      <th>count</th>\n",
              "      <td>1309.000000</td>\n",
              "      <td>1309.000000</td>\n",
              "      <td>1046.000000</td>\n",
              "      <td>1308.000000</td>\n",
              "    </tr>\n",
              "    <tr>\n",
              "      <th>mean</th>\n",
              "      <td>2.294882</td>\n",
              "      <td>0.381971</td>\n",
              "      <td>29.881135</td>\n",
              "      <td>33.295479</td>\n",
              "    </tr>\n",
              "    <tr>\n",
              "      <th>std</th>\n",
              "      <td>0.837836</td>\n",
              "      <td>0.486055</td>\n",
              "      <td>14.413500</td>\n",
              "      <td>51.758668</td>\n",
              "    </tr>\n",
              "    <tr>\n",
              "      <th>min</th>\n",
              "      <td>1.000000</td>\n",
              "      <td>0.000000</td>\n",
              "      <td>0.166700</td>\n",
              "      <td>0.000000</td>\n",
              "    </tr>\n",
              "    <tr>\n",
              "      <th>25%</th>\n",
              "      <td>2.000000</td>\n",
              "      <td>0.000000</td>\n",
              "      <td>21.000000</td>\n",
              "      <td>7.895800</td>\n",
              "    </tr>\n",
              "    <tr>\n",
              "      <th>50%</th>\n",
              "      <td>3.000000</td>\n",
              "      <td>0.000000</td>\n",
              "      <td>28.000000</td>\n",
              "      <td>14.454200</td>\n",
              "    </tr>\n",
              "    <tr>\n",
              "      <th>75%</th>\n",
              "      <td>3.000000</td>\n",
              "      <td>1.000000</td>\n",
              "      <td>39.000000</td>\n",
              "      <td>31.275000</td>\n",
              "    </tr>\n",
              "    <tr>\n",
              "      <th>max</th>\n",
              "      <td>3.000000</td>\n",
              "      <td>1.000000</td>\n",
              "      <td>80.000000</td>\n",
              "      <td>512.329200</td>\n",
              "    </tr>\n",
              "  </tbody>\n",
              "</table>\n",
              "</div>\n",
              "    <div class=\"colab-df-buttons\">\n",
              "\n",
              "  <div class=\"colab-df-container\">\n",
              "    <button class=\"colab-df-convert\" onclick=\"convertToInteractive('df-6f2c695a-fc1f-4742-abed-467bded8a2ba')\"\n",
              "            title=\"Convert this dataframe to an interactive table.\"\n",
              "            style=\"display:none;\">\n",
              "\n",
              "  <svg xmlns=\"http://www.w3.org/2000/svg\" height=\"24px\" viewBox=\"0 -960 960 960\">\n",
              "    <path d=\"M120-120v-720h720v720H120Zm60-500h600v-160H180v160Zm220 220h160v-160H400v160Zm0 220h160v-160H400v160ZM180-400h160v-160H180v160Zm440 0h160v-160H620v160ZM180-180h160v-160H180v160Zm440 0h160v-160H620v160Z\"/>\n",
              "  </svg>\n",
              "    </button>\n",
              "\n",
              "  <style>\n",
              "    .colab-df-container {\n",
              "      display:flex;\n",
              "      gap: 12px;\n",
              "    }\n",
              "\n",
              "    .colab-df-convert {\n",
              "      background-color: #E8F0FE;\n",
              "      border: none;\n",
              "      border-radius: 50%;\n",
              "      cursor: pointer;\n",
              "      display: none;\n",
              "      fill: #1967D2;\n",
              "      height: 32px;\n",
              "      padding: 0 0 0 0;\n",
              "      width: 32px;\n",
              "    }\n",
              "\n",
              "    .colab-df-convert:hover {\n",
              "      background-color: #E2EBFA;\n",
              "      box-shadow: 0px 1px 2px rgba(60, 64, 67, 0.3), 0px 1px 3px 1px rgba(60, 64, 67, 0.15);\n",
              "      fill: #174EA6;\n",
              "    }\n",
              "\n",
              "    .colab-df-buttons div {\n",
              "      margin-bottom: 4px;\n",
              "    }\n",
              "\n",
              "    [theme=dark] .colab-df-convert {\n",
              "      background-color: #3B4455;\n",
              "      fill: #D2E3FC;\n",
              "    }\n",
              "\n",
              "    [theme=dark] .colab-df-convert:hover {\n",
              "      background-color: #434B5C;\n",
              "      box-shadow: 0px 1px 3px 1px rgba(0, 0, 0, 0.15);\n",
              "      filter: drop-shadow(0px 1px 2px rgba(0, 0, 0, 0.3));\n",
              "      fill: #FFFFFF;\n",
              "    }\n",
              "  </style>\n",
              "\n",
              "    <script>\n",
              "      const buttonEl =\n",
              "        document.querySelector('#df-6f2c695a-fc1f-4742-abed-467bded8a2ba button.colab-df-convert');\n",
              "      buttonEl.style.display =\n",
              "        google.colab.kernel.accessAllowed ? 'block' : 'none';\n",
              "\n",
              "      async function convertToInteractive(key) {\n",
              "        const element = document.querySelector('#df-6f2c695a-fc1f-4742-abed-467bded8a2ba');\n",
              "        const dataTable =\n",
              "          await google.colab.kernel.invokeFunction('convertToInteractive',\n",
              "                                                    [key], {});\n",
              "        if (!dataTable) return;\n",
              "\n",
              "        const docLinkHtml = 'Like what you see? Visit the ' +\n",
              "          '<a target=\"_blank\" href=https://colab.research.google.com/notebooks/data_table.ipynb>data table notebook</a>'\n",
              "          + ' to learn more about interactive tables.';\n",
              "        element.innerHTML = '';\n",
              "        dataTable['output_type'] = 'display_data';\n",
              "        await google.colab.output.renderOutput(dataTable, element);\n",
              "        const docLink = document.createElement('div');\n",
              "        docLink.innerHTML = docLinkHtml;\n",
              "        element.appendChild(docLink);\n",
              "      }\n",
              "    </script>\n",
              "  </div>\n",
              "\n",
              "\n",
              "<div id=\"df-8493ae2e-90cc-43c7-87e1-c804bf0765ab\">\n",
              "  <button class=\"colab-df-quickchart\" onclick=\"quickchart('df-8493ae2e-90cc-43c7-87e1-c804bf0765ab')\"\n",
              "            title=\"Suggest charts\"\n",
              "            style=\"display:none;\">\n",
              "\n",
              "<svg xmlns=\"http://www.w3.org/2000/svg\" height=\"24px\"viewBox=\"0 0 24 24\"\n",
              "     width=\"24px\">\n",
              "    <g>\n",
              "        <path d=\"M19 3H5c-1.1 0-2 .9-2 2v14c0 1.1.9 2 2 2h14c1.1 0 2-.9 2-2V5c0-1.1-.9-2-2-2zM9 17H7v-7h2v7zm4 0h-2V7h2v10zm4 0h-2v-4h2v4z\"/>\n",
              "    </g>\n",
              "</svg>\n",
              "  </button>\n",
              "\n",
              "<style>\n",
              "  .colab-df-quickchart {\n",
              "      --bg-color: #E8F0FE;\n",
              "      --fill-color: #1967D2;\n",
              "      --hover-bg-color: #E2EBFA;\n",
              "      --hover-fill-color: #174EA6;\n",
              "      --disabled-fill-color: #AAA;\n",
              "      --disabled-bg-color: #DDD;\n",
              "  }\n",
              "\n",
              "  [theme=dark] .colab-df-quickchart {\n",
              "      --bg-color: #3B4455;\n",
              "      --fill-color: #D2E3FC;\n",
              "      --hover-bg-color: #434B5C;\n",
              "      --hover-fill-color: #FFFFFF;\n",
              "      --disabled-bg-color: #3B4455;\n",
              "      --disabled-fill-color: #666;\n",
              "  }\n",
              "\n",
              "  .colab-df-quickchart {\n",
              "    background-color: var(--bg-color);\n",
              "    border: none;\n",
              "    border-radius: 50%;\n",
              "    cursor: pointer;\n",
              "    display: none;\n",
              "    fill: var(--fill-color);\n",
              "    height: 32px;\n",
              "    padding: 0;\n",
              "    width: 32px;\n",
              "  }\n",
              "\n",
              "  .colab-df-quickchart:hover {\n",
              "    background-color: var(--hover-bg-color);\n",
              "    box-shadow: 0 1px 2px rgba(60, 64, 67, 0.3), 0 1px 3px 1px rgba(60, 64, 67, 0.15);\n",
              "    fill: var(--button-hover-fill-color);\n",
              "  }\n",
              "\n",
              "  .colab-df-quickchart-complete:disabled,\n",
              "  .colab-df-quickchart-complete:disabled:hover {\n",
              "    background-color: var(--disabled-bg-color);\n",
              "    fill: var(--disabled-fill-color);\n",
              "    box-shadow: none;\n",
              "  }\n",
              "\n",
              "  .colab-df-spinner {\n",
              "    border: 2px solid var(--fill-color);\n",
              "    border-color: transparent;\n",
              "    border-bottom-color: var(--fill-color);\n",
              "    animation:\n",
              "      spin 1s steps(1) infinite;\n",
              "  }\n",
              "\n",
              "  @keyframes spin {\n",
              "    0% {\n",
              "      border-color: transparent;\n",
              "      border-bottom-color: var(--fill-color);\n",
              "      border-left-color: var(--fill-color);\n",
              "    }\n",
              "    20% {\n",
              "      border-color: transparent;\n",
              "      border-left-color: var(--fill-color);\n",
              "      border-top-color: var(--fill-color);\n",
              "    }\n",
              "    30% {\n",
              "      border-color: transparent;\n",
              "      border-left-color: var(--fill-color);\n",
              "      border-top-color: var(--fill-color);\n",
              "      border-right-color: var(--fill-color);\n",
              "    }\n",
              "    40% {\n",
              "      border-color: transparent;\n",
              "      border-right-color: var(--fill-color);\n",
              "      border-top-color: var(--fill-color);\n",
              "    }\n",
              "    60% {\n",
              "      border-color: transparent;\n",
              "      border-right-color: var(--fill-color);\n",
              "    }\n",
              "    80% {\n",
              "      border-color: transparent;\n",
              "      border-right-color: var(--fill-color);\n",
              "      border-bottom-color: var(--fill-color);\n",
              "    }\n",
              "    90% {\n",
              "      border-color: transparent;\n",
              "      border-bottom-color: var(--fill-color);\n",
              "    }\n",
              "  }\n",
              "</style>\n",
              "\n",
              "  <script>\n",
              "    async function quickchart(key) {\n",
              "      const quickchartButtonEl =\n",
              "        document.querySelector('#' + key + ' button');\n",
              "      quickchartButtonEl.disabled = true;  // To prevent multiple clicks.\n",
              "      quickchartButtonEl.classList.add('colab-df-spinner');\n",
              "      try {\n",
              "        const charts = await google.colab.kernel.invokeFunction(\n",
              "            'suggestCharts', [key], {});\n",
              "      } catch (error) {\n",
              "        console.error('Error during call to suggestCharts:', error);\n",
              "      }\n",
              "      quickchartButtonEl.classList.remove('colab-df-spinner');\n",
              "      quickchartButtonEl.classList.add('colab-df-quickchart-complete');\n",
              "    }\n",
              "    (() => {\n",
              "      let quickchartButtonEl =\n",
              "        document.querySelector('#df-8493ae2e-90cc-43c7-87e1-c804bf0765ab button');\n",
              "      quickchartButtonEl.style.display =\n",
              "        google.colab.kernel.accessAllowed ? 'block' : 'none';\n",
              "    })();\n",
              "  </script>\n",
              "</div>\n",
              "    </div>\n",
              "  </div>\n"
            ]
          },
          "metadata": {},
          "execution_count": 4
        }
      ]
    },
    {
      "cell_type": "code",
      "source": [
        "# Let's calculate the range.\n",
        "\n",
        "for col in ['pclass', 'age', 'fare']:\n",
        "    print(col, 'range: ', data[col].max() - data[col].min())"
      ],
      "metadata": {
        "colab": {
          "base_uri": "https://localhost:8080/"
        },
        "id": "_qjwc-9QDVvd",
        "outputId": "0f4d617b-5afd-4dc6-d0b9-2750cac9bca8"
      },
      "execution_count": 5,
      "outputs": [
        {
          "output_type": "stream",
          "name": "stdout",
          "text": [
            "pclass range:  2\n",
            "age range:  79.8333\n",
            "fare range:  512.3292\n"
          ]
        }
      ]
    },
    {
      "cell_type": "code",
      "source": [
        "# Let's separate the data into training and testing sets.\n",
        "\n",
        "# The titanic dataset contains missing information.\n",
        "# For this demo, I will fill in those values with 0s.\n",
        "\n",
        "X_train, X_test, y_train, y_test = train_test_split(\n",
        "    data[['pclass', 'age', 'fare']].fillna(0),\n",
        "    data.survived,\n",
        "    test_size=0.3,\n",
        "    random_state=0)\n",
        "\n",
        "X_train.shape, X_test.shape"
      ],
      "metadata": {
        "id": "5rr9vieuExQk",
        "colab": {
          "base_uri": "https://localhost:8080/"
        },
        "outputId": "69844f44-ad96-401d-e017-8266c8c5c3b8"
      },
      "execution_count": 6,
      "outputs": [
        {
          "output_type": "execute_result",
          "data": {
            "text/plain": [
              "((916, 3), (393, 3))"
            ]
          },
          "metadata": {},
          "execution_count": 6
        }
      ]
    },
    {
      "cell_type": "code",
      "source": [
        "# Scale the features between 0 and 1.\n",
        "\n",
        "# The scaler.\n",
        "scaler = MinMaxScaler()\n",
        "\n",
        "# Fit the scaler.\n",
        "scaler.fit(X_train)\n",
        "\n",
        "# Re-scale the datasets.\n",
        "X_train_scaled = scaler.transform(X_train)\n",
        "X_test_scaled = scaler.transform(X_test)"
      ],
      "metadata": {
        "id": "MM5HHZQmE2AL"
      },
      "execution_count": 7,
      "outputs": []
    },
    {
      "cell_type": "code",
      "source": [
        "# Let's have a look at the scaled training set.\n",
        "\n",
        "print('Mean: ', X_train_scaled.mean(axis=0))\n",
        "print('Standard Deviation: ', X_train_scaled.std(axis=0))\n",
        "print('Minimum value: ', X_train_scaled.min(axis=0))\n",
        "print('Maximum value: ', X_train_scaled.max(axis=0))"
      ],
      "metadata": {
        "id": "Ughx9kwixQUM",
        "colab": {
          "base_uri": "https://localhost:8080/"
        },
        "outputId": "8e56649d-e9c1-4436-ee60-4414de8b6504"
      },
      "execution_count": 8,
      "outputs": [
        {
          "output_type": "stream",
          "name": "stdout",
          "text": [
            "Mean:  [0.64628821 0.33048359 0.06349833]\n",
            "Standard Deviation:  [0.42105785 0.23332045 0.09250036]\n",
            "Minimum value:  [0. 0. 0.]\n",
            "Maximum value:  [1. 1. 1.]\n"
          ]
        }
      ]
    },
    {
      "cell_type": "code",
      "source": [
        "# Model trained with unscaled variables.\n",
        "\n",
        "# The model.\n",
        "logit = LogisticRegression(\n",
        "    random_state=44,\n",
        "    C=1000,  # c big to avoid regularization\n",
        "    solver='lbfgs')\n",
        "\n",
        "# Train the model.\n",
        "logit.fit(X_train, y_train)\n",
        "\n",
        "# Evaluate performance.\n",
        "print('Train set')\n",
        "pred = logit.predict_proba(X_train)\n",
        "print('Logistic Regression roc-auc: {}'.format(\n",
        "    roc_auc_score(y_train, pred[:, 1])))\n",
        "print('Test set')\n",
        "pred = logit.predict_proba(X_test)\n",
        "print('Logistic Regression roc-auc: {}'.format(\n",
        "    roc_auc_score(y_test, pred[:, 1])))"
      ],
      "metadata": {
        "colab": {
          "base_uri": "https://localhost:8080/"
        },
        "id": "v1PlT4OxxXIT",
        "outputId": "54492edc-030e-41e9-9f2a-86e65785ef54"
      },
      "execution_count": 9,
      "outputs": [
        {
          "output_type": "stream",
          "name": "stdout",
          "text": [
            "Train set\n",
            "Logistic Regression roc-auc: 0.6793181006244372\n",
            "Test set\n",
            "Logistic Regression roc-auc: 0.7175488081411426\n"
          ]
        }
      ]
    },
    {
      "cell_type": "code",
      "source": [
        "# Let's look at the coefficients.\n",
        "logit.coef_"
      ],
      "metadata": {
        "id": "dq0zSx6VxjFy",
        "colab": {
          "base_uri": "https://localhost:8080/"
        },
        "outputId": "f68fb334-df7e-4168-aa26-e39e6486ad1d"
      },
      "execution_count": 10,
      "outputs": [
        {
          "output_type": "execute_result",
          "data": {
            "text/plain": [
              "array([[-0.71428242, -0.00923013,  0.00425235]])"
            ]
          },
          "metadata": {},
          "execution_count": 10
        }
      ]
    },
    {
      "cell_type": "code",
      "source": [
        "# Model trained with scaled variables.\n",
        "\n",
        "# The model.\n",
        "logit = LogisticRegression(\n",
        "    random_state=44,\n",
        "    C=1000,  # c big to avoid regularization\n",
        "    solver='lbfgs')\n",
        "\n",
        "# Train the model using the re-scaled data.\n",
        "logit.fit(X_train_scaled, y_train)\n",
        "\n",
        "# Evaluate performance.\n",
        "print('Train set')\n",
        "pred = logit.predict_proba(X_train_scaled)\n",
        "print('Logistic Regression roc-auc: {}'.format(\n",
        "    roc_auc_score(y_train, pred[:, 1])))\n",
        "print('Test set')\n",
        "pred = logit.predict_proba(X_test_scaled)\n",
        "print('Logistic Regression roc-auc: {}'.format(\n",
        "    roc_auc_score(y_test, pred[:, 1])))"
      ],
      "metadata": {
        "id": "plRqxcQ6zddQ",
        "colab": {
          "base_uri": "https://localhost:8080/"
        },
        "outputId": "15db58b6-20a9-42e1-c211-0fcfdfc75226"
      },
      "execution_count": 11,
      "outputs": [
        {
          "output_type": "stream",
          "name": "stdout",
          "text": [
            "Train set\n",
            "Logistic Regression roc-auc: 0.6793281640744896\n",
            "Test set\n",
            "Logistic Regression roc-auc: 0.7175488081411426\n"
          ]
        }
      ]
    },
    {
      "cell_type": "code",
      "source": [
        "# Let's look at the coefficients.\n",
        "\n",
        "logit.coef_"
      ],
      "metadata": {
        "colab": {
          "base_uri": "https://localhost:8080/"
        },
        "id": "2r-kJ4Sdzk4X",
        "outputId": "edee032c-a6e9-489a-a1a2-8ff323493518"
      },
      "execution_count": 12,
      "outputs": [
        {
          "output_type": "execute_result",
          "data": {
            "text/plain": [
              "array([[-1.42875872, -0.68293349,  2.17646757]])"
            ]
          },
          "metadata": {},
          "execution_count": 12
        }
      ]
    },
    {
      "cell_type": "code",
      "source": [
        "# Model trained unscaled variables.\n",
        "\n",
        "# The model.\n",
        "SVM_model = SVC(random_state=44, probability=True, gamma='auto')\n",
        "\n",
        "# Train the model.\n",
        "SVM_model.fit(X_train, y_train)\n",
        "\n",
        "# Evaluate performance.\n",
        "print('Train set')\n",
        "pred = SVM_model.predict_proba(X_train)\n",
        "print('SVM roc-auc: {}'.format(roc_auc_score(y_train, pred[:, 1])))\n",
        "print('Test set')\n",
        "pred = SVM_model.predict_proba(X_test)\n",
        "print('SVM roc-auc: {}'.format(roc_auc_score(y_test, pred[:, 1])))"
      ],
      "metadata": {
        "id": "-K_soDOCzvs2",
        "colab": {
          "base_uri": "https://localhost:8080/"
        },
        "outputId": "4d667d7d-df49-4a0d-a595-3c9a44aedfba"
      },
      "execution_count": 13,
      "outputs": [
        {
          "output_type": "stream",
          "name": "stdout",
          "text": [
            "Train set\n",
            "SVM roc-auc: 0.882393490960506\n",
            "Test set\n",
            "SVM roc-auc: 0.6617581992146452\n"
          ]
        }
      ]
    },
    {
      "cell_type": "code",
      "source": [
        "# Model trained with scaled variables.\n",
        "\n",
        "# The model.\n",
        "SVM_model = SVC(random_state=44, probability=True, gamma='auto')\n",
        "\n",
        "# Train the model.\n",
        "SVM_model.fit(X_train_scaled, y_train)\n",
        "\n",
        "# Evaluate performance.\n",
        "print('Train set')\n",
        "pred = SVM_model.predict_proba(X_train_scaled)\n",
        "print('SVM roc-auc: {}'.format(roc_auc_score(y_train, pred[:, 1])))\n",
        "print('Test set')\n",
        "pred = SVM_model.predict_proba(X_test_scaled)\n",
        "print('SVM roc-auc: {}'.format(roc_auc_score(y_test, pred[:, 1])))"
      ],
      "metadata": {
        "colab": {
          "base_uri": "https://localhost:8080/"
        },
        "id": "DJ5NWMpHz6g_",
        "outputId": "e1c83161-3644-4877-e80b-7bc2b779337d"
      },
      "execution_count": 14,
      "outputs": [
        {
          "output_type": "stream",
          "name": "stdout",
          "text": [
            "Train set\n",
            "SVM roc-auc: 0.6780802962679695\n",
            "Test set\n",
            "SVM roc-auc: 0.6841435761296388\n"
          ]
        }
      ]
    },
    {
      "cell_type": "code",
      "source": [
        "# Model trained with unscaled features.\n",
        "\n",
        "# The model.\n",
        "KNN = KNeighborsClassifier(n_neighbors=5)\n",
        "\n",
        "# Train the model.\n",
        "KNN.fit(X_train, y_train)\n",
        "\n",
        "# Evaluate performance.\n",
        "print('Train set')\n",
        "pred = KNN.predict_proba(X_train)\n",
        "print('KNN roc-auc: {}'.format(roc_auc_score(y_train, pred[:,1])))\n",
        "print('Test set')\n",
        "pred = KNN.predict_proba(X_test)\n",
        "print('KNN roc-auc: {}'.format(roc_auc_score(y_test, pred[:,1])))"
      ],
      "metadata": {
        "colab": {
          "base_uri": "https://localhost:8080/"
        },
        "id": "mOZQnAhEz9DV",
        "outputId": "5999ba6e-404e-4ca5-dc7c-aade33ce76dd"
      },
      "execution_count": 15,
      "outputs": [
        {
          "output_type": "stream",
          "name": "stdout",
          "text": [
            "Train set\n",
            "KNN roc-auc: 0.8087718062383327\n",
            "Test set\n",
            "KNN roc-auc: 0.6764697749018307\n"
          ]
        }
      ]
    },
    {
      "cell_type": "code",
      "source": [
        "# Model trained with scaled data.\n",
        "\n",
        "# The model.\n",
        "KNN = KNeighborsClassifier(n_neighbors=5)\n",
        "\n",
        "# Train the model.\n",
        "KNN.fit(X_train_scaled, y_train)\n",
        "\n",
        "# Evaluate performance.\n",
        "print('Train set')\n",
        "pred = KNN.predict_proba(X_train_scaled)\n",
        "print('KNN roc-auc: {}'.format(roc_auc_score(y_train, pred[:,1])))\n",
        "print('Test set')\n",
        "pred = KNN.predict_proba(X_test_scaled)\n",
        "print('KNN roc-auc: {}'.format(roc_auc_score(y_test, pred[:,1])))"
      ],
      "metadata": {
        "colab": {
          "base_uri": "https://localhost:8080/"
        },
        "id": "kgn1owxFwKqk",
        "outputId": "d9e192f2-0ed4-44a6-bf77-dd5ad327bd39"
      },
      "execution_count": 16,
      "outputs": [
        {
          "output_type": "stream",
          "name": "stdout",
          "text": [
            "Train set\n",
            "KNN roc-auc: 0.8276281957743572\n",
            "Test set\n",
            "KNN roc-auc: 0.721033128698634\n"
          ]
        }
      ]
    },
    {
      "cell_type": "code",
      "source": [
        "# Model trained with unscaled features.\n",
        "\n",
        "# The model.\n",
        "rf = RandomForestClassifier(n_estimators=200, random_state=39)\n",
        "\n",
        "# Train the model.\n",
        "rf.fit(X_train, y_train)\n",
        "\n",
        "# Evaluate performance.\n",
        "print('Train set')\n",
        "pred = rf.predict_proba(X_train)\n",
        "print('Random Forests roc-auc: {}'.format(roc_auc_score(y_train, pred[:, 1])))\n",
        "print('Test set')\n",
        "pred = rf.predict_proba(X_test)\n",
        "print('Random Forests roc-auc: {}'.format(roc_auc_score(y_test, pred[:, 1])))"
      ],
      "metadata": {
        "colab": {
          "base_uri": "https://localhost:8080/"
        },
        "id": "lbXQML1zwUQy",
        "outputId": "ec3e5b5f-84a2-4217-f914-8e43d94aaf31"
      },
      "execution_count": 17,
      "outputs": [
        {
          "output_type": "stream",
          "name": "stdout",
          "text": [
            "Train set\n",
            "Random Forests roc-auc: 0.9866810238554083\n",
            "Test set\n",
            "Random Forests roc-auc: 0.7326751838946961\n"
          ]
        }
      ]
    },
    {
      "cell_type": "code",
      "source": [
        "# Model trained with  scaled features\n",
        "\n",
        "# The model.\n",
        "rf = RandomForestClassifier(n_estimators=200, random_state=39)\n",
        "\n",
        "# Train the model.\n",
        "rf.fit(X_train_scaled, y_train)\n",
        "\n",
        "# Evaluate performance.\n",
        "print('Train set')\n",
        "pred = rf.predict_proba(X_train_scaled)\n",
        "print('Random Forests roc-auc: {}'.format(roc_auc_score(y_train, pred[:,1])))\n",
        "print('Test set')\n",
        "pred = rf.predict_proba(X_test_scaled)\n",
        "print('Random Forests roc-auc: {}'.format(roc_auc_score(y_test, pred[:,1])))"
      ],
      "metadata": {
        "colab": {
          "base_uri": "https://localhost:8080/"
        },
        "id": "eDww7xmQwZek",
        "outputId": "71a5013c-7a63-415c-e734-48d69aec1510"
      },
      "execution_count": 18,
      "outputs": [
        {
          "output_type": "stream",
          "name": "stdout",
          "text": [
            "Train set\n",
            "Random Forests roc-auc: 0.9867917218059866\n",
            "Test set\n",
            "Random Forests roc-auc: 0.7312510370001659\n"
          ]
        }
      ]
    },
    {
      "cell_type": "code",
      "source": [
        "# Train Adaboost on non-scaled features.\n",
        "\n",
        "# Adaboost\n",
        "ada = AdaBoostClassifier(n_estimators=200, random_state=44)\n",
        "\n",
        "# Train the model.\n",
        "ada.fit(X_train, y_train)\n",
        "\n",
        "# Evaluate model performance.\n",
        "print('Train set')\n",
        "pred = ada.predict_proba(X_train)\n",
        "print('AdaBoost roc-auc: {}'.format(roc_auc_score(y_train, pred[:,1])))\n",
        "print('Test set')\n",
        "pred = ada.predict_proba(X_test)\n",
        "print('AdaBoost roc-auc: {}'.format(roc_auc_score(y_test, pred[:,1])))"
      ],
      "metadata": {
        "colab": {
          "base_uri": "https://localhost:8080/"
        },
        "id": "IYSEysqKwhXB",
        "outputId": "638bce8e-b375-42fe-f01b-051cdaf2906e"
      },
      "execution_count": 19,
      "outputs": [
        {
          "output_type": "stream",
          "name": "stdout",
          "text": [
            "Train set\n",
            "AdaBoost roc-auc: 0.7970629821021541\n",
            "Test set\n",
            "AdaBoost roc-auc: 0.7473867595818815\n"
          ]
        }
      ]
    },
    {
      "cell_type": "code",
      "source": [
        "# Train Adaboost on scaled features.\n",
        "\n",
        "# Adaboost.\n",
        "ada = AdaBoostClassifier(n_estimators=200, random_state=44)\n",
        "\n",
        "# Train the model.\n",
        "ada.fit(X_train_scaled, y_train)\n",
        "\n",
        "# Evaluate model performance.\n",
        "print('Train set')\n",
        "pred = ada.predict_proba(X_train_scaled)\n",
        "print('AdaBoost roc-auc: {}'.format(roc_auc_score(y_train, pred[:,1])))\n",
        "print('Test set')\n",
        "pred = ada.predict_proba(X_test_scaled)\n",
        "print('AdaBoost roc-auc: {}'.format(roc_auc_score(y_test, pred[:,1])))"
      ],
      "metadata": {
        "id": "_GFE2wunwnjR",
        "colab": {
          "base_uri": "https://localhost:8080/"
        },
        "outputId": "2a08f032-2100-4e25-cdad-a1ae8017cbca"
      },
      "execution_count": 20,
      "outputs": [
        {
          "output_type": "stream",
          "name": "stdout",
          "text": [
            "Train set\n",
            "AdaBoost roc-auc: 0.7970629821021541\n",
            "Test set\n",
            "AdaBoost roc-auc: 0.7475250262706707\n"
          ]
        }
      ]
    }
  ]
}