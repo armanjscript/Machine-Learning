{
  "nbformat": 4,
  "nbformat_minor": 0,
  "metadata": {
    "colab": {
      "name": "Kmeans.ipynb",
      "provenance": [],
      "collapsed_sections": []
    },
    "kernelspec": {
      "name": "python3",
      "display_name": "Python 3"
    }
  },
  "cells": [
    {
      "cell_type": "code",
      "metadata": {
        "id": "-yhBEhlGN2aG",
        "colab_type": "code",
        "colab": {}
      },
      "source": [
        "import numpy as np\n",
        "\n",
        "class Kmeans:\n",
        "\n",
        "  def __init__(self,data,k=2,iterations=1):\n",
        "    self.data=data\n",
        "    self.k=k\n",
        "    self.iterations=iterations\n",
        "\n",
        "  def compute_euclidean_distance(self,point,centroid):\n",
        "    return np.sqrt(np.sum((point - centroid)**2))\n",
        "\n",
        "  def compute_new_centroids(self,cluster_label,centroids):\n",
        "    return np.array(cluster_label + centroids)/2\n",
        "  \n",
        "  def assign_label_cluster(self,distance, data_point, centroids):\n",
        "    index_of_minimum = min(distance, key=distance.get)\n",
        "    return [index_of_minimum, data_point, centroids[index_of_minimum]]\n",
        "  \n",
        "  def fit_pred(self):\n",
        "    label = []\n",
        "    cluster_label = []\n",
        "    total_points = len(self.data)\n",
        "    random_centroids=np.random.choice(len(self.data),self.k,replace=False)\n",
        "    centroids=self.data[random_centroids]\n",
        "\n",
        "    for iteration in range(0,self.iterations):\n",
        "      for index_point in range(0, total_points):\n",
        "        distance = {}\n",
        "        for index_centroid in range(0,self.k):\n",
        "            distance[index_centroid] = self.compute_euclidean_distance(self.data[index_point], centroids[index_centroid])\n",
        "        label = self.assign_label_cluster(distance, self.data[index_point], centroids)\n",
        "        centroids[label[0]] = self.compute_new_centroids(label[1], centroids[label[0]])\n",
        "\n",
        "        if iteration == (self.iterations - 1):\n",
        "            cluster_label.append(label)\n",
        "    res=np.array(cluster_label)\n",
        "    return res\n",
        "  \n",
        "\n"
      ],
      "execution_count": 0,
      "outputs": []
    },
    {
      "cell_type": "markdown",
      "metadata": {
        "id": "P_xJlbdGXb5P",
        "colab_type": "text"
      },
      "source": [
        "**Testing**"
      ]
    },
    {
      "cell_type": "code",
      "metadata": {
        "id": "7p9sYcNnXfny",
        "colab_type": "code",
        "outputId": "2faccf5e-db76-43b6-a0a7-3af48ec8531c",
        "colab": {
          "base_uri": "https://localhost:8080/",
          "height": 51
        }
      },
      "source": [
        "data=np.random.rand(20,50)\n",
        "kmeans=Kmeans(data,k=10,iterations=10)\n",
        "\n",
        "res=kmeans.fit_pred()\n",
        "print(res[:,0])\n",
        "print(res[:,0][2])\n"
      ],
      "execution_count": 46,
      "outputs": [
        {
          "output_type": "stream",
          "text": [
            "[3 6 2 8 9 3 5 6 0 7 1 3 3 3 6 3 3 3 6 4]\n",
            "2\n"
          ],
          "name": "stdout"
        }
      ]
    }
  ]
}